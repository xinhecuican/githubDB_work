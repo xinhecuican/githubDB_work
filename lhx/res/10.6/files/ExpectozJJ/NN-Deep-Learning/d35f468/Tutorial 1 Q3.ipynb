{
 "cells": [
  {
   "cell_type": "markdown",
   "metadata": {},
   "source": [
    "# CZ4042 Tutorial 1 Q3"
   ]
  },
  {
   "cell_type": "code",
   "execution_count": 10,
   "metadata": {},
   "outputs": [],
   "source": [
    "import numpy as np\n",
    "import tensorflow as tf\n",
    "\n",
    "w1 = tf.Variable([1.0, 1.0, 1.0], tf.float32) # trainable parameters\n",
    "b1 = tf.Variable(-0.5, tf.float32)\n",
    "w2 = tf.Variable([1.0, 1.0, 1.0], tf.float32) # trainable parameters\n",
    "b2 = tf.Variable(-1.5, tf.float32)\n",
    "w3 = tf.Variable([1.0, 1.0, 1.0], tf.float32) # trainable parameters\n",
    "b3 = tf.Variable(-2.5, tf.float32)\n",
    "w = tf.Variable([1.0, -1.0, 1.0], tf.float32) # trainable parameters\n",
    "b = tf.Variable(-0.5, tf.float32)"
   ]
  },
  {
   "cell_type": "code",
   "execution_count": 16,
   "metadata": {},
   "outputs": [
    {
     "name": "stdout",
     "output_type": "stream",
     "text": [
      "[0.0, 0.0, 0.0]\n",
      "u:-0.5 y1:0.0, y2:0.0, y3:0.0, y:0.0\n",
      "[0.0, 0.0, 1.0]\n",
      "u:0.5 y1:1.0, y2:0.0, y3:0.0, y:1.0\n",
      "[0.0, 1.0, 0.0]\n",
      "u:0.5 y1:1.0, y2:0.0, y3:0.0, y:1.0\n",
      "[1.0, 0.0, 0.0]\n",
      "u:0.5 y1:1.0, y2:0.0, y3:0.0, y:1.0\n",
      "[0.0, 1.0, 1.0]\n",
      "u:-0.5 y1:1.0, y2:1.0, y3:0.0, y:0.0\n",
      "[1.0, 1.0, 0.0]\n",
      "u:-0.5 y1:1.0, y2:1.0, y3:0.0, y:0.0\n",
      "[1.0, 0.0, 1.0]\n",
      "u:-0.5 y1:1.0, y2:1.0, y3:0.0, y:0.0\n",
      "[1.0, 1.0, 1.0]\n",
      "u:0.5 y1:1.0, y2:1.0, y3:1.0, y:1.0\n"
     ]
    }
   ],
   "source": [
    "def thresh(u):\n",
    "        shape = tf.shape(u)\n",
    "        return tf.where(tf.greater(u, tf.zeros(shape)), tf.ones(shape), tf.zeros(shape))\n",
    "\n",
    "x = tf.placeholder(tf.float32)\n",
    "u1 = tf.tensordot(w1, x, axes=1) + b1\n",
    "y1 = thresh(u1)\n",
    "u2 = tf.tensordot(w2, x, axes=1) + b2\n",
    "y2 = thresh(u2)\n",
    "u3 = tf.tensordot(w3, x, axes=1) + b3\n",
    "y3 = thresh(u3)\n",
    "u = tf.tensordot(w, [y1, y2, y3], axes=1) + b\n",
    "y = thresh(u)\n",
    "\n",
    "sess = tf.Session()\n",
    "sess.run(tf.global_variables_initializer())\n",
    "\n",
    "u, y1_, y2_, y3_, y_ = sess.run([u, y1, y2, y3, y], {x: [0.0, 0.0, 0.0]})\n",
    "print([0.0, 0.0, 0.0])\n",
    "print('u:{} y1:{}, y2:{}, y3:{}, y:{}'.format(u, y1_, y2_, y3_, y_))\n",
    "u = tf.tensordot(w, [y1, y2, y3], axes=1) + b\n",
    "\n",
    "u, y1_, y2_, y3_, y_ = sess.run([u, y1, y2, y3, y], {x: [0.0, 0.0, 1.0]})\n",
    "print([0.0, 0.0, 1.0])\n",
    "print('u:{} y1:{}, y2:{}, y3:{}, y:{}'.format(u, y1_, y2_, y3_, y_))\n",
    "u = tf.tensordot(w, [y1, y2, y3], axes=1) + b\n",
    "\n",
    "u, y1_, y2_, y3_, y_ = sess.run([u, y1, y2, y3, y], {x: [0.0, 1.0, 0.0]})\n",
    "print([0.0, 1.0, 0.0])\n",
    "print('u:{} y1:{}, y2:{}, y3:{}, y:{}'.format(u, y1_, y2_, y3_, y_))\n",
    "u = tf.tensordot(w, [y1, y2, y3], axes=1) + b\n",
    "\n",
    "u, y1_, y2_, y3_, y_ = sess.run([u, y1, y2, y3, y], {x: [1.0, 0.0, 0.0]})\n",
    "print([1.0, 0.0, 0.0])\n",
    "print('u:{} y1:{}, y2:{}, y3:{}, y:{}'.format(u, y1_, y2_, y3_, y_))\n",
    "u = tf.tensordot(w, [y1, y2, y3], axes=1) + b\n",
    "\n",
    "u, y1_, y2_, y3_, y_ = sess.run([u, y1, y2, y3, y], {x: [0.0, 1.0, 1.0]})\n",
    "print([0.0, 1.0, 1.0])\n",
    "print('u:{} y1:{}, y2:{}, y3:{}, y:{}'.format(u, y1_, y2_, y3_, y_))\n",
    "u = tf.tensordot(w, [y1, y2, y3], axes=1) + b\n",
    "\n",
    "u, y1_, y2_, y3_, y_ = sess.run([u, y1, y2, y3, y], {x: [1.0, 1.0, 0.0]})\n",
    "print([1.0, 1.0, 0.0])\n",
    "print('u:{} y1:{}, y2:{}, y3:{}, y:{}'.format(u, y1_, y2_, y3_, y_))\n",
    "u = tf.tensordot(w, [y1, y2, y3], axes=1) + b\n",
    "\n",
    "u, y1_, y2_, y3_, y_ = sess.run([u, y1, y2, y3, y], {x: [1.0, 0.0, 1.0]})\n",
    "print([1.0, 0.0, 1.0])\n",
    "print('u:{} y1:{}, y2:{}, y3:{}, y:{}'.format(u, y1_, y2_, y3_, y_))\n",
    "u = tf.tensordot(w, [y1, y2, y3], axes=1) + b\n",
    "\n",
    "u, y1_, y2_, y3_, y_ = sess.run([u, y1, y2, y3, y], {x: [1.0, 1.0, 1.0]})\n",
    "print([1.0, 1.0, 1.0])\n",
    "print('u:{} y1:{}, y2:{}, y3:{}, y:{}'.format(u, y1_, y2_, y3_, y_))"
   ]
  },
  {
   "cell_type": "code",
   "execution_count": null,
   "metadata": {},
   "outputs": [],
   "source": []
  },
  {
   "cell_type": "code",
   "execution_count": null,
   "metadata": {},
   "outputs": [],
   "source": []
  },
  {
   "cell_type": "code",
   "execution_count": null,
   "metadata": {},
   "outputs": [],
   "source": []
  }
 ],
 "metadata": {
  "kernelspec": {
   "display_name": "Python 3",
   "language": "python",
   "name": "python3"
  },
  "language_info": {
   "codemirror_mode": {
    "name": "ipython",
    "version": 3
   },
   "file_extension": ".py",
   "mimetype": "text/x-python",
   "name": "python",
   "nbconvert_exporter": "python",
   "pygments_lexer": "ipython3",
   "version": "3.6.5"
  }
 },
 "nbformat": 4,
 "nbformat_minor": 2
}
