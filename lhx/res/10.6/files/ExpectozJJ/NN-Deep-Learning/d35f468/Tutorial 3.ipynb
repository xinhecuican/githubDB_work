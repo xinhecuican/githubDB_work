{
 "cells": [
  {
   "cell_type": "markdown",
   "metadata": {},
   "source": [
    "# CZ4042 Tutorial 3"
   ]
  },
  {
   "cell_type": "markdown",
   "metadata": {},
   "source": [
    "# Wee JunJie"
   ]
  },
  {
   "cell_type": "markdown",
   "metadata": {},
   "source": [
    "1. Training Inputs for a dichotomizer are given as: \n",
    "\n",
    "$$\\mathbf{x_1} = \\left[\n",
    "\\begin{array}{c}\n",
    "5\\\\\n",
    "1\\\\\n",
    "\\end{array}\n",
    "\\right]; \\mathbf{x_2} = \\left[\n",
    "\\begin{array}{c}\n",
    "7\\\\\n",
    "3\\\\\n",
    "\\end{array}\n",
    "\\right]; \\mathbf{x_3} = \\left[\n",
    "\\begin{array}{c}\n",
    "3\\\\\n",
    "2\\\\\n",
    "\\end{array}\n",
    "\\right]; \\mathbf{x_4} = \\left[\n",
    "\\begin{array}{c}\n",
    "5\\\\\n",
    "4\\\\\n",
    "\\end{array}\n",
    "\\right]; \\quad \\text{Class 1}$$ \n",
    "\n",
    "$$\\mathbf{x_5} = \\left[\n",
    "\\begin{array}{c}\n",
    "0\\\\\n",
    "0\\\\\n",
    "\\end{array}\n",
    "\\right]; \\mathbf{x_6} = \\left[\n",
    "\\begin{array}{c}\n",
    "-1\\\\\n",
    "-3\\\\\n",
    "\\end{array}\n",
    "\\right]; \\mathbf{x_7} = \\left[\n",
    "\\begin{array}{c}\n",
    "-2\\\\\n",
    "3\\\\\n",
    "\\end{array}\n",
    "\\right]; \\mathbf{x_8} = \\left[\n",
    "\\begin{array}{c}\n",
    "-3\\\\\n",
    "0\\\\\n",
    "\\end{array}\n",
    "\\right]; \\quad \\text{Class 2}$$\n"
   ]
  },
  {
   "cell_type": "markdown",
   "metadata": {},
   "source": [
    "(a) Determine whether the two classes of patterns are linearly separable and find the center of gravity of patterns in each class"
   ]
  },
  {
   "cell_type": "code",
   "execution_count": 7,
   "metadata": {},
   "outputs": [],
   "source": [
    "import tensorflow as tf\n",
    "import numpy as np\n",
    "import pylab as plt\n",
    "from mpl_toolkits.mplot3d import Axes3D\n",
    "import matplotlib.ticker as ticker\n",
    "\n",
    "import os\n",
    "if not os.path.isdir('figures'):\n",
    "\tprint('creating the figures folder')\n",
    "\tos.makedirs('figures')"
   ]
  },
  {
   "cell_type": "code",
   "execution_count": 10,
   "metadata": {},
   "outputs": [
    {
     "name": "stdout",
     "output_type": "stream",
     "text": [
      "centroids: [[ 5.   2.5]\n",
      " [-1.5  0. ]]\n"
     ]
    }
   ],
   "source": [
    "# data\n",
    "X = np.array([[5, 1],[7, 3], [3, 2], [5, 4], [0, 0], [-1, -3], [-2, 3], [-3, 0]])\n",
    "Y = np.array([0, 0, 0, 0, 1, 1, 1, 1])\n",
    "\n",
    "# class means\n",
    "no_classes = 2\n",
    "no_data = len(X)\n",
    "mu = np.zeros((no_classes,2))\n",
    "nc = np.zeros(no_classes)\n",
    "for p in range(no_data):\n",
    "    mu[Y[p]] += X[p]\n",
    "    nc[Y[p]] += 1\n",
    "mu /= nc\n",
    "print('centroids: %s'%mu)"
   ]
  },
  {
   "cell_type": "markdown",
   "metadata": {},
   "source": [
    "(b) If the center points of two clusters of class 1 and class 2 are vectors $\\chi_1$ and $\\chi_2$, show\n",
    "that linear decision boundary that passes through the middle point of the line\n",
    "joining the two centroids can be expressed in the form\n",
    "\n",
    "$$\\bigg(\\chi_1-\\chi_2\\bigg)^T\\mathbf{X} + \\frac{1}{2}\\bigg(\\big|\\big|\\chi_2\\big|\\big|^2-\\big|\\big|\\chi_1\\big|\\big|^2\\bigg)=0$$"
   ]
  },
  {
   "cell_type": "code",
   "execution_count": 30,
   "metadata": {},
   "outputs": [
    {
     "data": {
      "image/png": "[encoded data removed]",
      "text/plain": [
       "<Figure size 432x288 with 1 Axes>"
      ]
     },
     "metadata": {},
     "output_type": "display_data"
    }
   ],
   "source": [
    "# plot data points and centroids\n",
    "\n",
    "plt.figure(1)\n",
    "plt.plot(X[Y==0,0],X[Y==0,1],'rx',label='Class 1')\n",
    "plt.plot(X[Y==1,0],X[Y==1,1],'bx',label='Class 2')\n",
    "\n",
    "plt.plot(mu[:,0],mu[:,1],'o',color='green',label='centroids')\n",
    "plt.xlabel('$x_1$')\n",
    "plt.ylabel('$x_2$')\n",
    "plt.legend()\n",
    "plt.title('Data points & Centroids')\n",
    "plt.savefig('./figures/tut3_1a.png')"
   ]
  },
  {
   "cell_type": "code",
   "execution_count": 31,
   "metadata": {},
   "outputs": [
    {
     "data": {
      "image/png": "[encoded data removed]",
      "text/plain": [
       "<Figure size 432x288 with 1 Axes>"
      ]
     },
     "metadata": {},
     "output_type": "display_data"
    }
   ],
   "source": [
    "# plot decision boundary \n",
    "\n",
    "plt.figure(2)\n",
    "w = mu[0]-mu[1]\n",
    "b = 0.5*(np.dot(mu[1],mu[1])-np.dot(mu[0],mu[0]))\n",
    "\n",
    "x1 = np.arange(-3,7,0.1)\n",
    "x2 = np.zeros(len(x1))\n",
    "for i in range(len(x1)):\n",
    "    x2[i]=-(w[0]*x1[i]+b)/w[1]\n",
    "plt.plot(x1,x2,'-',color='black',label='Decision Boundary')\n",
    "plt.axis('equal')\n",
    "\n",
    "plt.plot(X[Y==0,0],X[Y==0,1],'rx',label='Class 1')\n",
    "\n",
    "plt.plot(X[Y==1,0],X[Y==1,1],'bx',label='Class 2')\n",
    "\n",
    "plt.plot(mu[:,0],mu[:,1],'o',color='green',label='Centroids')\n",
    "plt.xlabel('$x_1$')\n",
    "plt.ylabel('$x_2$')\n",
    "plt.legend()\n",
    "plt.title('Data points & Centroids')\n",
    "plt.savefig('./figures/tut3_1b.png')"
   ]
  },
  {
   "cell_type": "markdown",
   "metadata": {},
   "source": [
    "(c) Design a dichotomizer using a perceptron having the decision boundary as in part\n",
    "(b) for the given classification and determine how it recognizes the following input\n",
    "patterns\n",
    "\n",
    "$$\\mathbf{v_1} = \\left[\n",
    "\\begin{array}{c}\n",
    "4\\\\\n",
    "2\\\\\n",
    "\\end{array}\n",
    "\\right]; \\mathbf{v_2} = \\left[\n",
    "\\begin{array}{c}\n",
    "0\\\\\n",
    "5\\\\\n",
    "\\end{array}\n",
    "\\right]; \\mathbf{v_3} = \\left[\n",
    "\\begin{array}{c}\n",
    "\\frac{36}{13}\\\\\n",
    "0\\\\\n",
    "\\end{array}\n",
    "\\right];$$ "
   ]
  },
  {
   "cell_type": "code",
   "execution_count": 42,
   "metadata": {},
   "outputs": [
    {
     "data": {
      "image/png": "[encoded data removed]",
      "text/plain": [
       "<Figure size 432x288 with 1 Axes>"
      ]
     },
     "metadata": {},
     "output_type": "display_data"
    }
   ],
   "source": [
    "# test decision boundary on new inputs \n",
    "\n",
    "v = np.array([[4,2], [0,5], [36/13, 0]])\n",
    "y = np.zeros(3) \n",
    "\n",
    "for i in range(len(x)):\n",
    "    y[i] = (np.dot(v[i],w)+b <= 0)\n",
    "\n",
    "# plot data with new inputs classification  \n",
    "plt.figure(3)\n",
    "w = mu[0]-mu[1]\n",
    "b = 0.5*(np.dot(mu[1],mu[1])-np.dot(mu[0],mu[0]))\n",
    "\n",
    "x1 = np.arange(-3,7,0.1)\n",
    "x2 = np.zeros(len(x1))\n",
    "for i in range(len(x1)):\n",
    "    x2[i]=-(w[0]*x1[i]+b)/w[1]\n",
    "plt.plot(x1,x2,'-',color='black',label='Decision Boundary')\n",
    "\n",
    "plt.plot(X[Y==0,0],X[Y==0,1],'rx',label='Class 1')\n",
    "plt.plot(X[Y==1,0],X[Y==1,1],'bx',label='Class 2')\n",
    "for i in range(3):\n",
    "    if y[i] == 0:\n",
    "        plt.plot(v[i,0],v[i,1],'rs')\n",
    "    else:\n",
    "        plt.plot(v[i,0],v[i,1],'bs')\n",
    "\n",
    "plt.plot(mu[:,0],mu[:,1],'o',color='green',label='Centroids')\n",
    "plt.xlabel('$x_1$')\n",
    "plt.ylabel('$x_2$')\n",
    "plt.axis('equal')\n",
    "plt.legend()\n",
    "plt.title('Data points & Centroids')\n",
    "plt.savefig('./figures/tut3_1c.png')"
   ]
  }
 ],
 "metadata": {
  "kernelspec": {
   "display_name": "Python 3",
   "language": "python",
   "name": "python3"
  },
  "language_info": {
   "codemirror_mode": {
    "name": "ipython",
    "version": 3
   },
   "file_extension": ".py",
   "mimetype": "text/x-python",
   "name": "python",
   "nbconvert_exporter": "python",
   "pygments_lexer": "ipython3",
   "version": "3.6.5"
  }
 },
 "nbformat": 4,
 "nbformat_minor": 2
}
